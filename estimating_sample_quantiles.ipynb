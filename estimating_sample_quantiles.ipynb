{
 "cells": [
  {
   "cell_type": "markdown",
   "metadata": {},
   "source": [
    "# Estimating sample quantiles"
   ]
  },
  {
   "cell_type": "markdown",
   "metadata": {},
   "source": [
    "# Document\n",
    "\n",
    "<table align=\"left\">\n",
    "    <tr>\n",
    "        <th class=\"text-align:left\">Title</th>\n",
    "        <td class=\"text-align:left\">Estimating sample quantiles</td>\n",
    "    </tr>\n",
    "    <tr>\n",
    "        <th class=\"text-align:left\">Last modified</th>\n",
    "        <td class=\"text-align:left\">2019-01-09</td>\n",
    "    </tr>\n",
    "    <tr>\n",
    "        <th class=\"text-align:left\">Author</th>\n",
    "        <td class=\"text-align:left\">Gilles Pilon <gillespilon13@gmail.com></td>\n",
    "    </tr>\n",
    "    <tr>\n",
    "        <th class=\"text-align:left\">Status</th>\n",
    "        <td class=\"text-align:left\">Active</td>\n",
    "    </tr>\n",
    "    <tr>\n",
    "        <th class=\"text-align:left\">Type</th>\n",
    "        <td class=\"text-align:left\">Jupyter notebook</td>\n",
    "    </tr>\n",
    "    <tr>\n",
    "        <th class=\"text-align:left\">Created</th>\n",
    "        <td class=\"text-align:left\">2018-08-18</td>\n",
    "    </tr>\n",
    "    <tr>\n",
    "        <th class=\"text-align:left\">File name</th>\n",
    "        <td class=\"text-align:left\">estimating_sample_quantiles.ipynb</td>\n",
    "    </tr>\n",
    "    <tr>\n",
    "        <th class=\"text-align:left\">Other files required</th>\n",
    "        <td class=\"text-align:left\">estimating_sample_quantiles.csv</td>\n",
    "    </tr>\n",
    "</table>"
   ]
  },
  {
   "cell_type": "markdown",
   "metadata": {},
   "source": [
    "# In brevi\n",
    "\n",
    "The purpose of this notebook is to explore the ways that Python calculates quantiles. During the development of the anova_one_factor notebook, I discovered that [Python](https://www.python.org), [LibreOffice](https://www.libreoffice.org), and [Excel](https://office.microsoft.com/excel/) calculate quartines in the same way, but that Minitab and an online source calculate them differently. I've discovered that there are at least eleven ways to calculate quantiles.\n",
    "\n",
    "In addition, this notebook explores how to replicate Minitab's \"graphical summary\" report."
   ]
  },
  {
   "cell_type": "markdown",
   "metadata": {},
   "source": [
    "# Data\n",
    "\n",
    "Download the data file.\n",
    "\n",
    "[estimating_sample_quantiles](https://drive.google.com/open?id=1EuMKLYCh2aLllTQoYSGzXNQZKeexaWTn)"
   ]
  },
  {
   "cell_type": "markdown",
   "metadata": {},
   "source": [
    "# Methodology\n",
    "\n",
    "Various data munging operations are performed using pandas."
   ]
  },
  {
   "cell_type": "markdown",
   "metadata": {},
   "source": [
    "# Explanation of the eleven methods\n",
    "\n",
    "Quantiles divide the range of a probability distribution into continuous intervals with equal probabilities, or divide the observations in a sample in the same way [Wikipedia](https://en.wikipedia.org/wiki/Quantile). A sample drawn from an unknown population requires estimating the quantiles. There are twelve known methods that commonly appear in statistical packages. Methods 1-3 are based on rounding. Methods 4-9 are based on linear interpolation.\n",
    "\n",
    "The data are sorted in increasing order. Each method computes $Q_{\\text{p}}$, the estimate for the $k^{th}$ $q$-quantile, where $p = k/q$, from a sample of size $N$ by computing a real-valued index $h$. When $h$ is an integer, the $h^{th}$ smallest of the $N$ values, $x_h$, is the quantile estimate. Otherwise, a rounding or interpolation scheme is used to compute the quantile estimate from $h$, $x_{\\lfloor \\text{h}\\rfloor}$, and $x_{\\lceil \\text{h}\\rceil}$.\n",
    "\n",
    "Sample quantiles are defined by:\n",
    "\n",
    "$$\n",
    "\\begin{equation}\n",
    "Q_p = (1 - \\gamma) \\space x_j \\space + \\space \\gamma \\space x_{\\text{j+1}}\n",
    "\\end{equation}\n",
    "$$\n",
    "\n",
    "where:\n",
    "\n",
    "$$\n",
    "\\begin{equation}\n",
    "x_j \\text{ is the } j^{th} \\text{ order statistic} \\\\\n",
    "\\gamma \\text{ is a function of } j = \\lfloor \\text{(n} \\times \\text{p + m)} \\rfloor \\\\\n",
    "m = \\text{alphap + p } \\times \\text{(1} - \\text{alphap} - \\text{betap)} \\\\\n",
    "g = \\text{n} \\times \\text{p} + \\text{m} - \\text{j} \\\\\n",
    "\\frac{j - m}{n} \\leq p \\lt \\frac{j - m + 1}{n}\n",
    "\\end{equation}\n",
    "$$\n",
    "\n",
    "Reinterpreting the above equations to compare to <b>R</b> gives:\n",
    "\n",
    "$$\n",
    "\\begin{equation}\n",
    "p(k) = \\frac{k - \\text{alphap}}{n + 1 - \\text{alphap} - \\text{betap}}\n",
    "\\end{equation}$$\n",
    "\n",
    "In this notebook I am particularly interested in the 4-quantiles, called the 1<sup>st</sup>, 2<sup>nd</sup> and 3<sup>rd</sup> quartiles (Q1, Q2. Q3)."
   ]
  },
  {
   "cell_type": "markdown",
   "metadata": {},
   "source": [
    "The following table is a work in progress, to combine the eleven methods into one table.\n",
    "\n",
    "<table>\n",
    "<tr>\n",
    "<th style=\"text-align:center\">Method</th>\n",
    "<th style=\"text-align:center\">Software</th>\n",
    "<th style=\"text-align:center\">$h$</th>\n",
    "<th style=\"text-align:center\">$Q_p$</th>\n",
    "<th style=\"text-align:center\">SciPy (alphab, betap)</th>\n",
    "<th style=\"text-align:center\">Notes</th>\n",
    "</tr>\n",
    "<tr>\n",
    "<td style=\"text-align:center\">1</td>\n",
    "<td>R-1, SAS-3</td>\n",
    "<td>$Np + \\frac{1}{2}$</td>\n",
    "<td>$x_{\\lceil \\text{h} - \\frac{1}{2}\\rceil}$</td>\n",
    "<td></td>\n",
    "<td>Inverse of empirical cumulative distribution function (CDF). When $p = 0$, use $x_1$.</td>\n",
    "</tr>\n",
    "<tr>\n",
    "<td style=\"text-align:center\">2</td>\n",
    "<td>R-2, SAS-5</td>\n",
    "<td>$Np + \\frac{1}{2}$</td>\n",
    "<td>$\\frac{x_{\\lceil \\text{h} - \\frac{1}{2}\\rceil} + x_{\\lfloor \\text{h} + \\frac{1}{2}\\rfloor}}{2}$</td>\n",
    "<td></td>\n",
    "<td>The same as R-1, but with averaging at discontinuities. When $p = 0$, use $x_1$.When $p = 1$, use $x_N$.</td>\n",
    "</tr>\n",
    "<tr>\n",
    "<td style=\"text-align:center\">3</td>\n",
    "<td>R-3, SAS-2</td>\n",
    "<td>$Np$</td>\n",
    "<td>$x_{\\lfloor \\text{h}\\rceil}$</td>\n",
    "<td></td>\n",
    "<td>The observation numbered closest to $Np$ (piecewise linear function). It is also called the nearest even-order statistic. Here, $\\lfloor \\text{h}\\rceil$ indicates rounding to the nearest integer, choosing the even integer in the case of a tie. When $p \\leq \\frac{\\frac{1}{2}}{N}$, use $x_1$.</td>\n",
    "</tr>\n",
    "<tr>\n",
    "<td style=\"text-align:center\">4</td>\n",
    "<td>R-4, SAS-1</td>\n",
    "<td>$Np$</td>\n",
    "<td>$x_{\\lfloor \\text{h}\\rfloor} + (h - \\lfloor \\text{h} \\rfloor) (x_{\\lfloor \\text{h} \\rfloor + 1} - x_{\\lfloor \\text{h} \\rfloor})$</td>\n",
    "<td>(0,1)</td>\n",
    "<td>$\\frac{k}{n}$ Linear interpolation of the emperical distribution function. When $p \\lt \\frac{1}{N}$, use $x_1$. When $p = 1$, use $x_N$.</td>\n",
    "</tr>\n",
    "<tr>\n",
    "<td style=\"text-align:center\">5</td>\n",
    "<td>R-5</td>\n",
    "<td>$Np + \\frac{1}{2}$</td>\n",
    "<td>$x_{\\lfloor \\text{h}\\rfloor} + (h - \\lfloor \\text{h} \\rfloor) (x_{\\lfloor \\text{h} \\rfloor + 1} - x_{\\lfloor \\text{h} \\rfloor})$</td>\n",
    "<td>(0.5,0.5)</td>\n",
    "<td>$\\frac{k - \\frac{1}{2}}{n}$ Piecewise linear function where the knots are the values midway through the steps of the emperical distribution function. When $p \\lt \\frac{\\frac{1}{2}}{N}$, use $x_1$. When $p \\geq \\frac{(N - \\frac{1}{2}}{N})$, use $x_N$.</td>\n",
    "</tr>\n",
    "<tr>\n",
    "<td style=\"text-align:center\">6</td>\n",
    "<td>R-6, SAS-4 Minitab, SPSS</td>\n",
    "<td>$(N + 1)p$</td>\n",
    "<td>$x_{\\lfloor \\text{h}\\rfloor} + (h - \\lfloor \\text{h} \\rfloor) (x_{\\lfloor \\text{h} \\rfloor + 1} - x_{\\lfloor \\text{h} \\rfloor})$</td>\n",
    "<td>(0,0)</td>\n",
    "<td>$\\frac{k}{n +1}$ Linear interpolation of the expectations for the order statistics for the uniform distribution on [0,1]. That is, it is the linear interpolation between points ($p_h, x_h$), where $p_h = \\frac{h}{N+ 1}$ is the probability that the last of $(N + 1)$ randomly drawn values will not exceed the $h^\\text{th}$ smallest of the first $N$ randomly drawn values. When $p \\lt \\frac{1}{N + 1}$, use $x_1$. When $p \\geq \\frac{N}{N + 1}$, use $x_N$.</td>\n",
    "</tr>\n",
    "<tr>\n",
    "<td style=\"text-align:center\">7</td>\n",
    "<td>R-7</td>\n",
    "<td>$(N - 1)p + 1$</td>\n",
    "<td>$x_{\\lfloor \\text{h}\\rfloor} + (h - \\lfloor \\text{h} \\rfloor) (x_{\\lfloor \\text{h} \\rfloor + 1} - x_{\\lfloor \\text{h} \\rfloor})$</td>\n",
    "<td>(1,1)</td>\n",
    "<td>$p(k) = \\frac{k - 1}{n - 1}\\\\ p(k) = \\text{mode[F(x[k])]}$<br />Linear interpolation of the modes for the order statistics for the uniform distribution on [0,1].  When $p = 1$, use $x_N$.</td>\n",
    "</tr>\n",
    "<tr>\n",
    "<td style=\"text-align:center\">8</td>\n",
    "<td>R-8</td>\n",
    "<td>$(N + \\frac{1}{3})p + \\frac{1}{3}$</td>\n",
    "<td>$x_{\\lfloor \\text{h}\\rfloor} + (h - \\lfloor \\text{h} \\rfloor) (x_{\\lfloor \\text{h} \\rfloor + 1} - x_{\\lfloor \\text{h} \\rfloor})$</td>\n",
    "<td>$(\\frac{1}{3},\\frac{1}{3})$</td>\n",
    "<td>$p(k) = \\frac{k - \\frac{1}{3}}{n + \\frac{1}{3}}$ Then $p(k) \\text{ ~ median}{[F(x[k])]}.$ The resulting quantile estimtes are approximately median-unbiased regardless of the distribution of x. Linear interpolation of the approximate medians for order statistics. When $p \\lt \\frac{\\frac{2}{3}}{N + \\frac{1}{3}}$, use $x_1$. When $p \\geq \\frac{(N - \\frac{1}{3})}{(N + \\frac{1}{3})}$, use $x_N$.</td>\n",
    "</tr>\n",
    "<tr>\n",
    "<td style=\"text-align:center\">9</td>\n",
    "<td>R-9</td>\n",
    "<td>$(N + \\frac{1}{4})p + \\frac{3}{8}$</td>\n",
    "<td>$x_{\\lfloor \\text{h}\\rfloor} + (h - \\lfloor \\text{h} \\rfloor) (x_{\\lfloor \\text{h} \\rfloor + 1} - x_{\\lfloor \\text{h} \\rfloor})$</td>\n",
    "<td>($\\frac{3}{8},\\frac{3}{8}$)</td>\n",
    "<td>$p(k) = \\frac{k - \\frac{3}{8}}{n + \\frac{1}{4}}$ Blom. The resulting quantile estimates are approximately unbiased for the expected order statistics if $x$ is normally distributed. When $p \\lt \\frac{\\frac{5}{8}}{N + \\frac{1}{4}}$, use $x_1$. When $p \\geq \\frac{N - \\frac{3}{8}}{N + \\frac{1}{4}}$, use $x_N$.</td>\n",
    "</tr>\n",
    "<tr>\n",
    "<td style=\"text-align:center\">10</td>\n",
    "<td></td>\n",
    "<td></td>\n",
    "<td></td>\n",
    "<td>(0.4,0.4)</td>\n",
    "<td>Cunnane's approximately quantile unbiased definition.</td>\n",
    "</tr>\n",
    "<tr>\n",
    "<td style=\"text-align:center\">11</td>\n",
    "<td></td>\n",
    "<td></td>\n",
    "<td></td>\n",
    "<td></td>\n",
    "<td>Filliben's estimate.</td>\n",
    "</tr>\n",
    "<tr>\n",
    "<td style=\"text-align:center\">12</td>\n",
    "<td></td>\n",
    "<td></td>\n",
    "<td></td>\n",
    "<td>(0.35,0.35)</td>\n",
    "<td>APL, used with PWM.</td>\n",
    "</tr>\n",
    "</table>"
   ]
  },
  {
   "cell_type": "markdown",
   "metadata": {},
   "source": [
    "# Software\n",
    "\n",
    "As shown above, R (version 2.0.0 onwards) implements methods 1-9. SciPy implements methods 4-9, 10, and a method called APL (need info on this)."
   ]
  },
  {
   "cell_type": "markdown",
   "metadata": {},
   "source": [
    "# Does it matter?\n",
    "\n",
    "TBD"
   ]
  },
  {
   "cell_type": "markdown",
   "metadata": {},
   "source": [
    "# Code"
   ]
  },
  {
   "cell_type": "code",
   "execution_count": 1,
   "metadata": {},
   "outputs": [],
   "source": [
    "# Start of time estimation for the notebook.\n",
    "import datetime as dt\n",
    "start_time = dt.datetime.now()"
   ]
  },
  {
   "cell_type": "code",
   "execution_count": 2,
   "metadata": {},
   "outputs": [],
   "source": [
    "# Import the required librairies.\n",
    "import pandas as pd\n",
    "import scipy.stats.mstats as ms\n",
    "from scipy.stats import anderson\n",
    "import statsmodels.stats.diagnostic as smd\n",
    "\n",
    "# This is a kluge until I learn to create a package for /datasense\n",
    "#import sys\n",
    "#sys.path.insert(0, '/home/gilles/documents/websites/support.gillespilon.ca/fil/datasense')\n",
    "\n",
    "import datasense as ds"
   ]
  },
  {
   "cell_type": "code",
   "execution_count": 3,
   "metadata": {},
   "outputs": [],
   "source": [
    "# Read the data file.\n",
    "# y is the column of response values.\n",
    "df = pd.read_csv('estimating_sample_quantiles.csv')"
   ]
  },
  {
   "cell_type": "code",
   "execution_count": 4,
   "metadata": {},
   "outputs": [
    {
     "data": {
      "text/html": [
       "<div>\n",
       "<style scoped>\n",
       "    .dataframe tbody tr th:only-of-type {\n",
       "        vertical-align: middle;\n",
       "    }\n",
       "\n",
       "    .dataframe tbody tr th {\n",
       "        vertical-align: top;\n",
       "    }\n",
       "\n",
       "    .dataframe thead th {\n",
       "        text-align: right;\n",
       "    }\n",
       "</style>\n",
       "<table border=\"1\" class=\"dataframe\">\n",
       "  <thead>\n",
       "    <tr style=\"text-align: right;\">\n",
       "      <th></th>\n",
       "      <th>y</th>\n",
       "    </tr>\n",
       "  </thead>\n",
       "  <tbody>\n",
       "    <tr>\n",
       "      <th>count</th>\n",
       "      <td>8.000000</td>\n",
       "    </tr>\n",
       "    <tr>\n",
       "      <th>mean</th>\n",
       "      <td>20.875000</td>\n",
       "    </tr>\n",
       "    <tr>\n",
       "      <th>std</th>\n",
       "      <td>27.010249</td>\n",
       "    </tr>\n",
       "    <tr>\n",
       "      <th>min</th>\n",
       "      <td>0.000000</td>\n",
       "    </tr>\n",
       "    <tr>\n",
       "      <th>25%</th>\n",
       "      <td>0.750000</td>\n",
       "    </tr>\n",
       "    <tr>\n",
       "      <th>50%</th>\n",
       "      <td>7.500000</td>\n",
       "    </tr>\n",
       "    <tr>\n",
       "      <th>75%</th>\n",
       "      <td>35.500000</td>\n",
       "    </tr>\n",
       "    <tr>\n",
       "      <th>max</th>\n",
       "      <td>63.000000</td>\n",
       "    </tr>\n",
       "  </tbody>\n",
       "</table>\n",
       "</div>"
      ],
      "text/plain": [
       "               y\n",
       "count   8.000000\n",
       "mean   20.875000\n",
       "std    27.010249\n",
       "min     0.000000\n",
       "25%     0.750000\n",
       "50%     7.500000\n",
       "75%    35.500000\n",
       "max    63.000000"
      ]
     },
     "execution_count": 4,
     "metadata": {},
     "output_type": "execute_result"
    }
   ],
   "source": [
    "# Calculate basic statistics.\n",
    "df.describe()"
   ]
  },
  {
   "cell_type": "code",
   "execution_count": 5,
   "metadata": {},
   "outputs": [
    {
     "data": {
      "text/plain": [
       "array([ 0.415,  7.5  , 46.89 ])"
      ]
     },
     "execution_count": 5,
     "metadata": {},
     "output_type": "execute_result"
    }
   ],
   "source": [
    "# Test scipy.stats.mstats mquantiles function on its own\n",
    "# Incorporate into my five-, six-, and seven-number summary functions eventually.\n",
    "# Need to test all options for alphap and betap. Following is R-8 (recommended).\n",
    "# Finally, add code to do CI with method R-8.\n",
    "resultd = ms.mquantiles(df['y'], prob=(0.25, 0.50, 0.75), alphap=0.33, betap=0.33)\n",
    "resultd"
   ]
  },
  {
   "cell_type": "code",
   "execution_count": 6,
   "metadata": {},
   "outputs": [
    {
     "data": {
      "text/plain": [
       "0.41500000000000004"
      ]
     },
     "execution_count": 6,
     "metadata": {},
     "output_type": "execute_result"
    }
   ],
   "source": [
    "resultd[0]"
   ]
  },
  {
   "cell_type": "code",
   "execution_count": 7,
   "metadata": {},
   "outputs": [
    {
     "data": {
      "text/plain": [
       "array([ 0.25,  7.5 , 52.5 ])"
      ]
     },
     "execution_count": 7,
     "metadata": {},
     "output_type": "execute_result"
    }
   ],
   "source": [
    "resultminitab = ms.mquantiles(df['y'], prob=(0.25, 0.50, 0.75), alphap=0, betap=0)\n",
    "resultminitab"
   ]
  },
  {
   "cell_type": "code",
   "execution_count": 8,
   "metadata": {},
   "outputs": [
    {
     "data": {
      "text/html": [
       "<div>\n",
       "<style scoped>\n",
       "    .dataframe tbody tr th:only-of-type {\n",
       "        vertical-align: middle;\n",
       "    }\n",
       "\n",
       "    .dataframe tbody tr th {\n",
       "        vertical-align: top;\n",
       "    }\n",
       "\n",
       "    .dataframe thead th {\n",
       "        text-align: right;\n",
       "    }\n",
       "</style>\n",
       "<table border=\"1\" class=\"dataframe\">\n",
       "  <thead>\n",
       "    <tr style=\"text-align: right;\">\n",
       "      <th></th>\n",
       "      <th>n</th>\n",
       "      <th>min</th>\n",
       "      <th>q1</th>\n",
       "      <th>q2</th>\n",
       "      <th>q3</th>\n",
       "      <th>iqr</th>\n",
       "      <th>max</th>\n",
       "    </tr>\n",
       "    <tr>\n",
       "      <th>interpolation</th>\n",
       "      <th></th>\n",
       "      <th></th>\n",
       "      <th></th>\n",
       "      <th></th>\n",
       "      <th></th>\n",
       "      <th></th>\n",
       "      <th></th>\n",
       "    </tr>\n",
       "  </thead>\n",
       "  <tbody>\n",
       "    <tr>\n",
       "      <th>linear</th>\n",
       "      <td>8</td>\n",
       "      <td>0</td>\n",
       "      <td>0.75</td>\n",
       "      <td>7.5</td>\n",
       "      <td>35.5</td>\n",
       "      <td>34.75</td>\n",
       "      <td>63</td>\n",
       "    </tr>\n",
       "    <tr>\n",
       "      <th>lower</th>\n",
       "      <td>8</td>\n",
       "      <td>0</td>\n",
       "      <td>0.00</td>\n",
       "      <td>2.0</td>\n",
       "      <td>27.0</td>\n",
       "      <td>27.00</td>\n",
       "      <td>63</td>\n",
       "    </tr>\n",
       "    <tr>\n",
       "      <th>higher</th>\n",
       "      <td>8</td>\n",
       "      <td>0</td>\n",
       "      <td>1.00</td>\n",
       "      <td>13.0</td>\n",
       "      <td>61.0</td>\n",
       "      <td>60.00</td>\n",
       "      <td>63</td>\n",
       "    </tr>\n",
       "    <tr>\n",
       "      <th>nearest</th>\n",
       "      <td>8</td>\n",
       "      <td>0</td>\n",
       "      <td>1.00</td>\n",
       "      <td>13.0</td>\n",
       "      <td>27.0</td>\n",
       "      <td>26.00</td>\n",
       "      <td>63</td>\n",
       "    </tr>\n",
       "    <tr>\n",
       "      <th>midpoint</th>\n",
       "      <td>8</td>\n",
       "      <td>0</td>\n",
       "      <td>0.50</td>\n",
       "      <td>7.5</td>\n",
       "      <td>44.0</td>\n",
       "      <td>43.50</td>\n",
       "      <td>63</td>\n",
       "    </tr>\n",
       "  </tbody>\n",
       "</table>\n",
       "</div>"
      ],
      "text/plain": [
       "               n  min    q1    q2    q3    iqr  max\n",
       "interpolation                                      \n",
       "linear         8    0  0.75   7.5  35.5  34.75   63\n",
       "lower          8    0  0.00   2.0  27.0  27.00   63\n",
       "higher         8    0  1.00  13.0  61.0  60.00   63\n",
       "nearest        8    0  1.00  13.0  27.0  26.00   63\n",
       "midpoint       8    0  0.50   7.5  44.0  43.50   63"
      ]
     },
     "execution_count": 8,
     "metadata": {},
     "output_type": "execute_result"
    }
   ],
   "source": [
    "ds.nonparametric_summary(df['y'])"
   ]
  },
  {
   "cell_type": "code",
   "execution_count": 9,
   "metadata": {},
   "outputs": [
    {
     "data": {
      "text/plain": [
       "y    0\n",
       "dtype: int64"
      ]
     },
     "execution_count": 9,
     "metadata": {},
     "output_type": "execute_result"
    }
   ],
   "source": [
    "# Calculate minimum value of the dataframe.\n",
    "df.min()"
   ]
  },
  {
   "cell_type": "code",
   "execution_count": 10,
   "metadata": {},
   "outputs": [
    {
     "data": {
      "text/plain": [
       "y    63\n",
       "dtype: int64"
      ]
     },
     "execution_count": 10,
     "metadata": {},
     "output_type": "execute_result"
    }
   ],
   "source": [
    "# Calculate maximum value of the dataframe.\n",
    "df.max()"
   ]
  },
  {
   "cell_type": "code",
   "execution_count": 11,
   "metadata": {},
   "outputs": [
    {
     "data": {
      "text/plain": [
       "y    20.875\n",
       "dtype: float64"
      ]
     },
     "execution_count": 11,
     "metadata": {},
     "output_type": "execute_result"
    }
   ],
   "source": [
    "# Calculate the average of the dataframe.\n",
    "df.mean()"
   ]
  },
  {
   "cell_type": "code",
   "execution_count": 12,
   "metadata": {},
   "outputs": [
    {
     "data": {
      "text/plain": [
       "y    27.010249\n",
       "dtype: float64"
      ]
     },
     "execution_count": 12,
     "metadata": {},
     "output_type": "execute_result"
    }
   ],
   "source": [
    "# Calculate sample standard deviation of the dataframe.\n",
    "df.std()"
   ]
  },
  {
   "cell_type": "code",
   "execution_count": 13,
   "metadata": {},
   "outputs": [
    {
     "data": {
      "text/plain": [
       "y    729.553571\n",
       "dtype: float64"
      ]
     },
     "execution_count": 13,
     "metadata": {},
     "output_type": "execute_result"
    }
   ],
   "source": [
    "# Calculate sample variance of the dataframe.\n",
    "df.var()"
   ]
  },
  {
   "cell_type": "code",
   "execution_count": 14,
   "metadata": {},
   "outputs": [
    {
     "data": {
      "text/plain": [
       "y    1.027767\n",
       "dtype: float64"
      ]
     },
     "execution_count": 14,
     "metadata": {},
     "output_type": "execute_result"
    }
   ],
   "source": [
    "# Calculate skewness of the dataframe.\n",
    "df.skew()"
   ]
  },
  {
   "cell_type": "code",
   "execution_count": 15,
   "metadata": {},
   "outputs": [
    {
     "data": {
      "text/plain": [
       "y   -0.771495\n",
       "dtype: float64"
      ]
     },
     "execution_count": 15,
     "metadata": {},
     "output_type": "execute_result"
    }
   ],
   "source": [
    "# Calculate kurtosis of the dataframe.\n",
    "df.kurt()"
   ]
  },
  {
   "cell_type": "code",
   "execution_count": 16,
   "metadata": {},
   "outputs": [
    {
     "data": {
      "text/plain": [
       "y    8\n",
       "dtype: int64"
      ]
     },
     "execution_count": 16,
     "metadata": {},
     "output_type": "execute_result"
    }
   ],
   "source": [
    "# Calculate the sample size of the dataframe.\n",
    "df.count()"
   ]
  },
  {
   "cell_type": "code",
   "execution_count": 17,
   "metadata": {},
   "outputs": [
    {
     "data": {
      "text/plain": [
       "0.8251508484815488"
      ]
     },
     "execution_count": 17,
     "metadata": {},
     "output_type": "execute_result"
    }
   ],
   "source": [
    "adresult = anderson(df['y'], dist='norm')\n",
    "adresult.statistic"
   ]
  },
  {
   "cell_type": "code",
   "execution_count": 18,
   "metadata": {},
   "outputs": [
    {
     "name": "stderr",
     "output_type": "stream",
     "text": [
      "/home/gilles/.pyenv/versions/3.6.6/lib/python3.6/site-packages/statsmodels/stats/_adnorm.py:66: FutureWarning: Using a non-tuple sequence for multidimensional indexing is deprecated; use `arr[tuple(seq)]` instead of `arr[seq]`. In the future this will be interpreted as an array index, `arr[np.array(seq)]`, which will result either in an error or a different result.\n",
      "  S = np.sum((2*i[sl1]-1.0)/N*(np.log(z)+np.log(1-z[sl2])), axis=axis)\n"
     ]
    },
    {
     "data": {
      "text/plain": [
       "(0.8251508484815488, 0.018166132339072383)"
      ]
     },
     "execution_count": 18,
     "metadata": {},
     "output_type": "execute_result"
    }
   ],
   "source": [
    "# Use statsmodels to calculate the Anderson-Darling test statistic and p value.\n",
    "smd.normal_ad(df['y'])"
   ]
  },
  {
   "cell_type": "code",
   "execution_count": 19,
   "metadata": {},
   "outputs": [
    {
     "data": {
      "text/plain": [
       "1.014344"
      ]
     },
     "execution_count": 19,
     "metadata": {},
     "output_type": "execute_result"
    }
   ],
   "source": [
    "# End of time estimation for the notebook.\n",
    "end_time = dt.datetime.now()\n",
    "(end_time - start_time).total_seconds()"
   ]
  },
  {
   "cell_type": "markdown",
   "metadata": {},
   "source": [
    "# References\n",
    "\n",
    "[datasense module](https://github.com/gillespilon/datasense).\n",
    "\n",
    "[Five-number summary](https://en.wikipedia.org/wiki/Five-number_summary).\n",
    "\n",
    "Hyndman, Rob J. and Yanan Fan. \"Sample Quantiles in Statistical Packages.\" *The American Statistician* Vol. 50, No. 4 (Nov. 1996): 361-365. [JSTOR 2684934](http://www.jstor.org/stable/2684934).\n",
    "\n",
    "McGill, Robert, John W. Tukey, and Wayne A. Larsen. 1978. \"Variations of Box Plots.\" *The American Statistician 21 (February 1978), no. 1; 12-16. [https://www.jstor.org/stable/2683468](https://www.jstor.org/stable/2683468).\n",
    "\n",
    "[pandas](https://pandas.pydata.org/pandas-docs/stable/api.html).\n",
    "\n",
    "[R documentation on quantiles](https://www.rdocumentation.org/packages/stats/topics/quantile).\n",
    "\n",
    "[R quantile function](https://stat.ethz.ch/R-manual/R-devel/library/stats/html/quantile.html).\n",
    "\n",
    "[SciPy documentation on mquantiles](https://docs.scipy.org/doc/scipy/reference/generated/scipy.stats.mstats.mquantiles.html).\n",
    "\n",
    "[SciPy documentation on masked arrays](https://docs.scipy.org/doc/numpy-1.15.1/reference/maskedarray.html).\n",
    "\n",
    "Wikipedia. \"Quantile\". Last modified 2018-08-01. [https://en.wikipedia.org/wiki/Quantile](https://en.wikipedia.org/wiki/Quantile)."
   ]
  }
 ],
 "metadata": {
  "kernelspec": {
   "display_name": "Python 3",
   "language": "python",
   "name": "python3"
  },
  "language_info": {
   "codemirror_mode": {
    "name": "ipython",
    "version": 3
   },
   "file_extension": ".py",
   "mimetype": "text/x-python",
   "name": "python",
   "nbconvert_exporter": "python",
   "pygments_lexer": "ipython3",
   "version": "3.6.6"
  }
 },
 "nbformat": 4,
 "nbformat_minor": 2
}
